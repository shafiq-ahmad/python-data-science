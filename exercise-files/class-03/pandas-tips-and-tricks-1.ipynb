{
 "cells": [
  {
   "cell_type": "markdown",
   "metadata": {},
   "source": [
    "## Parndas tips and tricks\n",
    "Written by: Shafique Ahmad \\\n",
    "Date: 10/19/2023 \\\n",
    "Contact me on: \\\n",
    "[Github](https://github.com/shafiq-ahmad/) \\\n",
    "[LinkedIn](https://www.linkedin.com/in/shafique-ahmad-b0865361)"
   ]
  },
  {
   "cell_type": "code",
   "execution_count": 4,
   "metadata": {},
   "outputs": [],
   "source": [
    "# importing libraries\n",
    "import pandas as pd\n",
    "import numpy as np\n",
    "import seaborn as sns"
   ]
  },
  {
   "cell_type": "markdown",
   "metadata": {},
   "source": [
    "## Get Pandas version"
   ]
  },
  {
   "cell_type": "code",
   "execution_count": 2,
   "metadata": {},
   "outputs": [
    {
     "data": {
      "text/plain": [
       "'2.1.1'"
      ]
     },
     "execution_count": 2,
     "metadata": {},
     "output_type": "execute_result"
    }
   ],
   "source": [
    "#method 1\n",
    "pd.__version__     #only version"
   ]
  },
  {
   "cell_type": "code",
   "execution_count": 3,
   "metadata": {},
   "outputs": [
    {
     "name": "stdout",
     "output_type": "stream",
     "text": [
      "\n",
      "INSTALLED VERSIONS\n",
      "------------------\n",
      "commit              : e86ed377639948c64c429059127bcf5b359ab6be\n",
      "python              : 3.10.1.final.0\n",
      "python-bits         : 64\n",
      "OS                  : Windows\n",
      "OS-release          : 10\n",
      "Version             : 10.0.19045\n",
      "machine             : AMD64\n",
      "processor           : Intel64 Family 6 Model 78 Stepping 3, GenuineIntel\n",
      "byteorder           : little\n",
      "LC_ALL              : None\n",
      "LANG                : None\n",
      "LOCALE              : English_United States.1252\n",
      "\n",
      "pandas              : 2.1.1\n",
      "numpy               : 1.26.0\n",
      "pytz                : 2023.3.post1\n",
      "dateutil            : 2.8.2\n",
      "setuptools          : 58.1.0\n",
      "pip                 : 21.2.4\n",
      "Cython              : None\n",
      "pytest              : None\n",
      "hypothesis          : None\n",
      "sphinx              : None\n",
      "blosc               : None\n",
      "feather             : None\n",
      "xlsxwriter          : None\n",
      "lxml.etree          : None\n",
      "html5lib            : None\n",
      "pymysql             : None\n",
      "psycopg2            : None\n",
      "jinja2              : None\n",
      "IPython             : 8.16.1\n",
      "pandas_datareader   : None\n",
      "bs4                 : None\n",
      "bottleneck          : None\n",
      "dataframe-api-compat: None\n",
      "fastparquet         : None\n",
      "fsspec              : None\n",
      "gcsfs               : None\n",
      "matplotlib          : 3.8.0\n",
      "numba               : None\n",
      "numexpr             : None\n",
      "odfpy               : None\n",
      "openpyxl            : 3.1.2\n",
      "pandas_gbq          : None\n",
      "pyarrow             : None\n",
      "pyreadstat          : None\n",
      "pyxlsb              : None\n",
      "s3fs                : None\n",
      "scipy               : None\n",
      "sqlalchemy          : None\n",
      "tables              : None\n",
      "tabulate            : None\n",
      "xarray              : None\n",
      "xlrd                : None\n",
      "zstandard           : None\n",
      "tzdata              : 2023.3\n",
      "qtpy                : None\n",
      "pyqt5               : None\n"
     ]
    }
   ],
   "source": [
    "#method 2\n",
    "pd.show_versions() #show all details"
   ]
  },
  {
   "cell_type": "markdown",
   "metadata": {},
   "source": [
    "## Creating Data Frame"
   ]
  },
  {
   "cell_type": "code",
   "execution_count": 5,
   "metadata": {},
   "outputs": [
    {
     "name": "stdout",
     "output_type": "stream",
     "text": [
      "   A col  B col\n",
      "0      1      3\n",
      "1      2      4\n",
      "2      3      5\n"
     ]
    }
   ],
   "source": [
    "# Method 1: assigning a dictionary\n",
    "df1 = pd.DataFrame({'A col': [1,2,3], 'B col':[3,4,5]})\n",
    "print(df1)"
   ]
  },
  {
   "cell_type": "code",
   "execution_count": 6,
   "metadata": {},
   "outputs": [
    {
     "name": "stdout",
     "output_type": "stream",
     "text": [
      "   0  1  2\n",
      "0  1  2  3\n",
      "1  4  5  6\n",
      "2  7  8  9\n"
     ]
    }
   ],
   "source": [
    "# Method 2: assigning a NumPy array\n",
    "arr = np.array([[1,2,3],[4,5,6],[7,8,9]])\n",
    "df = pd.DataFrame(arr)\n",
    "print(df)"
   ]
  },
  {
   "cell_type": "code",
   "execution_count": 7,
   "metadata": {},
   "outputs": [
    {
     "name": "stdout",
     "output_type": "stream",
     "text": [
      "          A         B         C         D         E         F         G  \\\n",
      "0  0.301905  0.504883  0.625198  0.680434  0.095660  0.375162  0.743567   \n",
      "1  0.607615  0.902101  0.708582  0.325209  0.283677  0.780769  0.290507   \n",
      "2  0.258299  0.895092  0.118593  0.614976  0.757741  0.498746  0.652328   \n",
      "3  0.174422  0.028404  0.611429  0.369036  0.366186  0.228669  0.329788   \n",
      "\n",
      "          H  \n",
      "0  0.344679  \n",
      "1  0.340194  \n",
      "2  0.588920  \n",
      "3  0.336372  \n"
     ]
    }
   ],
   "source": [
    "# by assigning random values\n",
    "df = pd.DataFrame(np.random.rand(4,8), columns=list('ABCDEFGH'))\n",
    "print(df)"
   ]
  },
  {
   "cell_type": "markdown",
   "metadata": {},
   "source": [
    "## Rename a column"
   ]
  },
  {
   "cell_type": "code",
   "execution_count": 9,
   "metadata": {},
   "outputs": [
    {
     "data": {
      "text/html": [
       "<div>\n",
       "<style scoped>\n",
       "    .dataframe tbody tr th:only-of-type {\n",
       "        vertical-align: middle;\n",
       "    }\n",
       "\n",
       "    .dataframe tbody tr th {\n",
       "        vertical-align: top;\n",
       "    }\n",
       "\n",
       "    .dataframe thead th {\n",
       "        text-align: right;\n",
       "    }\n",
       "</style>\n",
       "<table border=\"1\" class=\"dataframe\">\n",
       "  <thead>\n",
       "    <tr style=\"text-align: right;\">\n",
       "      <th></th>\n",
       "      <th>A_col</th>\n",
       "      <th>B</th>\n",
       "      <th>C</th>\n",
       "      <th>D</th>\n",
       "      <th>E</th>\n",
       "      <th>F</th>\n",
       "      <th>G</th>\n",
       "      <th>H</th>\n",
       "    </tr>\n",
       "  </thead>\n",
       "  <tbody>\n",
       "    <tr>\n",
       "      <th>0</th>\n",
       "      <td>0.301905</td>\n",
       "      <td>0.504883</td>\n",
       "      <td>0.625198</td>\n",
       "      <td>0.680434</td>\n",
       "      <td>0.095660</td>\n",
       "      <td>0.375162</td>\n",
       "      <td>0.743567</td>\n",
       "      <td>0.344679</td>\n",
       "    </tr>\n",
       "    <tr>\n",
       "      <th>1</th>\n",
       "      <td>0.607615</td>\n",
       "      <td>0.902101</td>\n",
       "      <td>0.708582</td>\n",
       "      <td>0.325209</td>\n",
       "      <td>0.283677</td>\n",
       "      <td>0.780769</td>\n",
       "      <td>0.290507</td>\n",
       "      <td>0.340194</td>\n",
       "    </tr>\n",
       "    <tr>\n",
       "      <th>2</th>\n",
       "      <td>0.258299</td>\n",
       "      <td>0.895092</td>\n",
       "      <td>0.118593</td>\n",
       "      <td>0.614976</td>\n",
       "      <td>0.757741</td>\n",
       "      <td>0.498746</td>\n",
       "      <td>0.652328</td>\n",
       "      <td>0.588920</td>\n",
       "    </tr>\n",
       "    <tr>\n",
       "      <th>3</th>\n",
       "      <td>0.174422</td>\n",
       "      <td>0.028404</td>\n",
       "      <td>0.611429</td>\n",
       "      <td>0.369036</td>\n",
       "      <td>0.366186</td>\n",
       "      <td>0.228669</td>\n",
       "      <td>0.329788</td>\n",
       "      <td>0.336372</td>\n",
       "    </tr>\n",
       "  </tbody>\n",
       "</table>\n",
       "</div>"
      ],
      "text/plain": [
       "      A_col         B         C         D         E         F         G  \\\n",
       "0  0.301905  0.504883  0.625198  0.680434  0.095660  0.375162  0.743567   \n",
       "1  0.607615  0.902101  0.708582  0.325209  0.283677  0.780769  0.290507   \n",
       "2  0.258299  0.895092  0.118593  0.614976  0.757741  0.498746  0.652328   \n",
       "3  0.174422  0.028404  0.611429  0.369036  0.366186  0.228669  0.329788   \n",
       "\n",
       "          H  \n",
       "0  0.344679  \n",
       "1  0.340194  \n",
       "2  0.588920  \n",
       "3  0.336372  "
      ]
     },
     "execution_count": 9,
     "metadata": {},
     "output_type": "execute_result"
    }
   ],
   "source": [
    "# Method 1: using rename() method\n",
    "df.rename(columns={'A':'A_col'}, inplace=True)\n",
    "df"
   ]
  },
  {
   "cell_type": "code",
   "execution_count": 11,
   "metadata": {},
   "outputs": [
    {
     "data": {
      "text/html": [
       "<div>\n",
       "<style scoped>\n",
       "    .dataframe tbody tr th:only-of-type {\n",
       "        vertical-align: middle;\n",
       "    }\n",
       "\n",
       "    .dataframe tbody tr th {\n",
       "        vertical-align: top;\n",
       "    }\n",
       "\n",
       "    .dataframe thead th {\n",
       "        text-align: right;\n",
       "    }\n",
       "</style>\n",
       "<table border=\"1\" class=\"dataframe\">\n",
       "  <thead>\n",
       "    <tr style=\"text-align: right;\">\n",
       "      <th></th>\n",
       "      <th>B</th>\n",
       "      <th>col_bb</th>\n",
       "      <th>C</th>\n",
       "      <th>D</th>\n",
       "      <th>E</th>\n",
       "      <th>F</th>\n",
       "      <th>G</th>\n",
       "      <th>H</th>\n",
       "    </tr>\n",
       "  </thead>\n",
       "  <tbody>\n",
       "    <tr>\n",
       "      <th>0</th>\n",
       "      <td>0.301905</td>\n",
       "      <td>0.504883</td>\n",
       "      <td>0.625198</td>\n",
       "      <td>0.680434</td>\n",
       "      <td>0.095660</td>\n",
       "      <td>0.375162</td>\n",
       "      <td>0.743567</td>\n",
       "      <td>0.344679</td>\n",
       "    </tr>\n",
       "    <tr>\n",
       "      <th>1</th>\n",
       "      <td>0.607615</td>\n",
       "      <td>0.902101</td>\n",
       "      <td>0.708582</td>\n",
       "      <td>0.325209</td>\n",
       "      <td>0.283677</td>\n",
       "      <td>0.780769</td>\n",
       "      <td>0.290507</td>\n",
       "      <td>0.340194</td>\n",
       "    </tr>\n",
       "    <tr>\n",
       "      <th>2</th>\n",
       "      <td>0.258299</td>\n",
       "      <td>0.895092</td>\n",
       "      <td>0.118593</td>\n",
       "      <td>0.614976</td>\n",
       "      <td>0.757741</td>\n",
       "      <td>0.498746</td>\n",
       "      <td>0.652328</td>\n",
       "      <td>0.588920</td>\n",
       "    </tr>\n",
       "    <tr>\n",
       "      <th>3</th>\n",
       "      <td>0.174422</td>\n",
       "      <td>0.028404</td>\n",
       "      <td>0.611429</td>\n",
       "      <td>0.369036</td>\n",
       "      <td>0.366186</td>\n",
       "      <td>0.228669</td>\n",
       "      <td>0.329788</td>\n",
       "      <td>0.336372</td>\n",
       "    </tr>\n",
       "  </tbody>\n",
       "</table>\n",
       "</div>"
      ],
      "text/plain": [
       "          B    col_bb         C         D         E         F         G  \\\n",
       "0  0.301905  0.504883  0.625198  0.680434  0.095660  0.375162  0.743567   \n",
       "1  0.607615  0.902101  0.708582  0.325209  0.283677  0.780769  0.290507   \n",
       "2  0.258299  0.895092  0.118593  0.614976  0.757741  0.498746  0.652328   \n",
       "3  0.174422  0.028404  0.611429  0.369036  0.366186  0.228669  0.329788   \n",
       "\n",
       "          H  \n",
       "0  0.344679  \n",
       "1  0.340194  \n",
       "2  0.588920  \n",
       "3  0.336372  "
      ]
     },
     "execution_count": 11,
     "metadata": {},
     "output_type": "execute_result"
    }
   ],
   "source": [
    "# Method 2: assign a new list of column names\n",
    "df.columns=['B','col_bb','C','D','E','F','G','H']\n",
    "df"
   ]
  },
  {
   "cell_type": "markdown",
   "metadata": {},
   "source": [
    "## Load sample dataset using seaborn library"
   ]
  },
  {
   "cell_type": "code",
   "execution_count": 12,
   "metadata": {},
   "outputs": [],
   "source": [
    "\n",
    "df_tips = sns.load_dataset('tips')"
   ]
  },
  {
   "cell_type": "code",
   "execution_count": null,
   "metadata": {},
   "outputs": [],
   "source": []
  }
 ],
 "metadata": {
  "kernelspec": {
   "display_name": "Python 3",
   "language": "python",
   "name": "python3"
  },
  "language_info": {
   "codemirror_mode": {
    "name": "ipython",
    "version": 3
   },
   "file_extension": ".py",
   "mimetype": "text/x-python",
   "name": "python",
   "nbconvert_exporter": "python",
   "pygments_lexer": "ipython3",
   "version": "3.10.1"
  }
 },
 "nbformat": 4,
 "nbformat_minor": 2
}
